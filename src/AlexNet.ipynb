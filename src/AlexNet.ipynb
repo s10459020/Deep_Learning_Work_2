{
  "nbformat": 4,
  "nbformat_minor": 0,
  "metadata": {
    "colab": {
      "name": "AlexNet.ipynb",
      "provenance": [],
      "collapsed_sections": []
    },
    "kernelspec": {
      "name": "python3",
      "display_name": "Python 3"
    },
    "language_info": {
      "name": "python"
    }
  },
  "cells": [
    {
      "cell_type": "markdown",
      "metadata": {
        "id": "7FWcN0TTPhij"
      },
      "source": [
        "# Introduction"
      ]
    },
    {
      "cell_type": "markdown",
      "metadata": {
        "id": "vEghu3onOXUi"
      },
      "source": [
        "## AlexNet\n",
        "\n",
        "AlexNet是一個網路架構，AlexNet在曾經一個比賽中獲得了不錯的結果。  \n",
        "\n",
        "與其他架構(VGG, GoogleNet, ResidualNet)一樣都很有名。"
      ]
    },
    {
      "cell_type": "markdown",
      "metadata": {
        "id": "szbYgCxoOcX6"
      },
      "source": [
        "## Imagenet\n",
        "\n",
        "Imagenet是一個大型的Datasets，有超過1500萬的影像，類別超過22000。  \n",
        "\n",
        "有分 Training Set, Validation Set, Testing Set"
      ]
    },
    {
      "cell_type": "markdown",
      "metadata": {
        "id": "H8cnW0FjPv0L"
      },
      "source": [
        "## Structure\n",
        "\n",
        "[CRPNCRPNCRCRCRPFRDFRDFS]\n",
        "\n",
        "- C: Convolution  \n",
        "- R: Relu  \n",
        "- P: Pooling  \n",
        "- N: Normalization  \n",
        "- D: Dropout  \n",
        "- F: Full COnnected  \n",
        "- S: Softmax"
      ]
    },
    {
      "cell_type": "markdown",
      "metadata": {
        "id": "3oiI-fxaQe9V"
      },
      "source": [
        "## Calculate Size\n",
        "\n",
        "Image(227, 227, 3)  \n",
        "\n",
        "Conv size format:\n",
        "( (Image size - Filter size + 2*pad) / stride ) + 1\n",
        "\n",
        "Pooling format:\n",
        "( (Image size - Filter size + 2*pad) / stride ) + 1"
      ]
    },
    {
      "cell_type": "markdown",
      "metadata": {
        "id": "zmuTemEtR3ta"
      },
      "source": [
        "# Example"
      ]
    },
    {
      "cell_type": "markdown",
      "metadata": {
        "id": "cv8L441LR6J0"
      },
      "source": [
        "## mnest\n",
        "\n",
        "輸入不符合size，有兩種方法解決:  \n",
        "1. resize to 227x227x1\n",
        "2. firse size to 28x28x1"
      ]
    },
    {
      "cell_type": "markdown",
      "metadata": {
        "id": "GyAgj1z-SMqG"
      },
      "source": [
        "import cv2\n",
        "train_data = []\n",
        "for img in x_train:\n",
        "  resized_ing = cv2.resize)img, (227, 227))\n",
        "  train_data.append(resized_img)"
      ]
    }
  ]
}